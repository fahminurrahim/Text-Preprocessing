{
 "cells": [
  {
   "cell_type": "code",
   "execution_count": 1,
   "metadata": {},
   "outputs": [],
   "source": [
    "# 19917003 - Fahmi Nurrahim\n",
    "\n",
    "\n",
    "#memasukan library\n",
    "\n",
    "import pandas as pd\n",
    "from bs4 import BeautifulSoup\n",
    "from nltk.corpus import stopwords\n",
    "import re\n",
    "import string\n",
    "import numpy"
   ]
  },
  {
   "cell_type": "code",
   "execution_count": 2,
   "metadata": {},
   "outputs": [],
   "source": [
    "#akses dataset\n",
    "\n",
    "dataframes = {\n",
    "        \"text\" : pd.read_fwf('data_tweet.csv')\n",
    "}"
   ]
  },
  {
   "cell_type": "code",
   "execution_count": 3,
   "metadata": {},
   "outputs": [
    {
     "name": "stdout",
     "output_type": "stream",
     "text": [
      "Tweet    Siang, bisa langsung ditanyakan ke Kebidanan F...\n",
      "Name: 0, dtype: object\n"
     ]
    }
   ],
   "source": [
    "#menampilkan salah satu data\n",
    "\n",
    "print(dataframes[\"text\"].iloc[0])"
   ]
  },
  {
   "cell_type": "code",
   "execution_count": 4,
   "metadata": {},
   "outputs": [],
   "source": [
    "#fungsi untuk menghilangkan berbagai tag \n",
    "\n",
    "uri_re = r'(?i)\\b((?:https?://|www\\d{0,3}[.]|[a-z0-9.\\-]+[.][a-z]{2,4}/)(?:[^\\s()<>]+|\\(([^\\s()<>]+|(\\([^\\s()<>]+\\)))*\\))+(?:\\(([^\\s()<>]+|(\\([^\\s()<>]+\\)))*\\)|[^\\s`!()\\[\\]{};:\\'\".,<>?«»“”‘’]))'\n",
    "\n",
    "def stripTagsAndUris(x):\n",
    "    if x:\n",
    "        # BeautifulSoup on content\n",
    "        soup = BeautifulSoup(x, \"html.parser\")\n",
    "        # Stripping all <code> tags with their content if any\n",
    "        if soup.code:\n",
    "            soup.code.decompose()\n",
    "        # Get all the text out of the html\n",
    "        text =  soup.get_text()\n",
    "        # Returning text stripping out all uris\n",
    "        return re.sub(uri_re, \"\", text)\n",
    "    else:\n",
    "        return \"\"\n",
    "\n"
   ]
  },
  {
   "cell_type": "code",
   "execution_count": 6,
   "metadata": {},
   "outputs": [
    {
     "name": "stdout",
     "output_type": "stream",
     "text": [
      "Tweet    Siang, bisa langsung ditanyakan ke Kebidanan F...\n",
      "Name: 0, dtype: object\n"
     ]
    }
   ],
   "source": [
    "# mengakses fungsi menghilangkan tag untuk diterapkan pada df\n",
    "\n",
    "for df in dataframes.values():\n",
    "    df[\"Tweet\"] = df[\"Tweet\"].map(stripTagsAndUris)\n",
    "    \n",
    "print(dataframes[\"text\"].iloc[0])"
   ]
  },
  {
   "cell_type": "code",
   "execution_count": 7,
   "metadata": {},
   "outputs": [],
   "source": [
    "#menghilangkan tanda baca\n",
    "\n",
    "\n",
    "def removePunctuation(x):\n",
    "    # menjadikan huruf kecil\n",
    "    x = x.lower()\n",
    "    # menghilangkan non-ASCII\n",
    "    x = re.sub(r'[^\\x00-\\x7f]',r' ',x)\n",
    "    x = re.sub(r'(rt )',r' ',x)\n",
    "    # replace\n",
    "    return re.sub(\"[\"+string.punctuation+\"]\", \" \", x)\n",
    "\n"
   ]
  },
  {
   "cell_type": "code",
   "execution_count": 8,
   "metadata": {},
   "outputs": [
    {
     "name": "stdout",
     "output_type": "stream",
     "text": [
      "Tweet      ub io  beasiswa aminef untuk pengajar bahasa...\n",
      "Name: 3, dtype: object\n"
     ]
    }
   ],
   "source": [
    "# mengakses fungsi menghilangkan tanda baca untuk diterapkan pada df\n",
    "\n",
    "for df in dataframes.values():\n",
    "    df[\"Tweet\"] = df[\"Tweet\"].map(removePunctuation)\n",
    "\n",
    "print(dataframes[\"text\"].iloc[3])"
   ]
  },
  {
   "cell_type": "code",
   "execution_count": 9,
   "metadata": {},
   "outputs": [],
   "source": [
    "#menghilangkan stopwords, menggunakan bahasa indonesia dan inggris untuk menananggulangi 2 bahasa tsb.\n",
    "\n",
    "stops = set(stopwords.words(\"indonesian\"))\n",
    "def removeStopwords(x):\n",
    "    # Removing all the stopwords\n",
    "    filtered_words = [word for word in x.split() if word not in stops]\n",
    "    return \" \".join(filtered_words)\n",
    "\n",
    "stops = set(stopwords.words(\"english\"))\n",
    "def removeStopwords(x):\n",
    "    # Removing all the stopwords\n",
    "    filtered_words = [word for word in x.split() if word not in stops]\n",
    "    return \" \".join(filtered_words)\n",
    "\n"
   ]
  },
  {
   "cell_type": "code",
   "execution_count": 10,
   "metadata": {},
   "outputs": [
    {
     "name": "stdout",
     "output_type": "stream",
     "text": [
      "Tweet    siang bisa langsung ditanyakan ke kebidanan fk...\n",
      "Name: 0, dtype: object\n"
     ]
    }
   ],
   "source": [
    "# mengakses fungsi menghilangkan tanda baca untuk diterapkan pada df\n",
    "\n",
    "for df in dataframes.values():\n",
    "    df[\"Tweet\"] = df[\"Tweet\"].map(removeStopwords)\n",
    "print(dataframes[\"text\"].iloc[0])"
   ]
  },
  {
   "cell_type": "code",
   "execution_count": 11,
   "metadata": {},
   "outputs": [
    {
     "name": "stdout",
     "output_type": "stream",
     "text": [
      "Tweet    [ub, io, beasiswa, aminef, untuk, pengajar, ba...\n",
      "Name: 3, dtype: object\n"
     ]
    }
   ],
   "source": [
    "#memecah kata\n",
    "\n",
    "for df in dataframes.values():\n",
    "    df[\"Tweet\"] = df[\"Tweet\"].map(lambda x: x.split())\n",
    "print(dataframes[\"text\"].iloc[3])"
   ]
  },
  {
   "cell_type": "code",
   "execution_count": 12,
   "metadata": {},
   "outputs": [
    {
     "data": {
      "text/html": [
       "<div>\n",
       "<style scoped>\n",
       "    .dataframe tbody tr th:only-of-type {\n",
       "        vertical-align: middle;\n",
       "    }\n",
       "\n",
       "    .dataframe tbody tr th {\n",
       "        vertical-align: top;\n",
       "    }\n",
       "\n",
       "    .dataframe thead th {\n",
       "        text-align: right;\n",
       "    }\n",
       "</style>\n",
       "<table border=\"1\" class=\"dataframe\">\n",
       "  <thead>\n",
       "    <tr style=\"text-align: right;\">\n",
       "      <th></th>\n",
       "      <th>Tweet</th>\n",
       "    </tr>\n",
       "  </thead>\n",
       "  <tbody>\n",
       "    <tr>\n",
       "      <td>0</td>\n",
       "      <td>[siang, bisa, langsung, ditanyakan, ke, kebida...</td>\n",
       "    </tr>\n",
       "    <tr>\n",
       "      <td>1</td>\n",
       "      <td>[jadwal, kegiatan, dies, natalis, ke, 54, ub, ...</td>\n",
       "    </tr>\n",
       "    <tr>\n",
       "      <td>2</td>\n",
       "      <td>[coming, soon, rangkaian, acara, dies, natalis...</td>\n",
       "    </tr>\n",
       "    <tr>\n",
       "      <td>3</td>\n",
       "      <td>[ub, io, beasiswa, aminef, untuk, pengajar, ba...</td>\n",
       "    </tr>\n",
       "    <tr>\n",
       "      <td>4</td>\n",
       "      <td>[ub, io, beasiswa, untuk, training, dan, studi...</td>\n",
       "    </tr>\n",
       "    <tr>\n",
       "      <td>5</td>\n",
       "      <td>[ub, periksa, soal, cek, jawaban, kamu, untuk,...</td>\n",
       "    </tr>\n",
       "    <tr>\n",
       "      <td>6</td>\n",
       "      <td>[ub, tes, kompetensi, ti, selama, 90, menit, 9...</td>\n",
       "    </tr>\n",
       "    <tr>\n",
       "      <td>7</td>\n",
       "      <td>[unileveridn, prosesi, penutupan, bulan, keseh...</td>\n",
       "    </tr>\n",
       "    <tr>\n",
       "      <td>8</td>\n",
       "      <td>[selamat, siang, untuk, jadwal, penerimaan, ma...</td>\n",
       "    </tr>\n",
       "    <tr>\n",
       "      <td>9</td>\n",
       "      <td>[kempanrb, bersama, korpri, meneguhkan, netral...</td>\n",
       "    </tr>\n",
       "    <tr>\n",
       "      <td>10</td>\n",
       "      <td>[ub, io, sosialisasi, studi, s2, dan, beasiswa...</td>\n",
       "    </tr>\n",
       "    <tr>\n",
       "      <td>11</td>\n",
       "      <td>[ub, io, kesempatan, terbaru, untuk, studi, s2...</td>\n",
       "    </tr>\n",
       "    <tr>\n",
       "      <td>12</td>\n",
       "      <td>[ub, io, forget, british, winter, education, f...</td>\n",
       "    </tr>\n",
       "    <tr>\n",
       "      <td>13</td>\n",
       "      <td>[ub, io, program, pertukaran, pelajar, dari, a...</td>\n",
       "    </tr>\n",
       "    <tr>\n",
       "      <td>14</td>\n",
       "      <td>[ub, io, fullbright, scholarship, untuk, s2, d...</td>\n",
       "    </tr>\n",
       "    <tr>\n",
       "      <td>15</td>\n",
       "      <td>[ub, io, british, winter, education, fair, mis...</td>\n",
       "    </tr>\n",
       "    <tr>\n",
       "      <td>16</td>\n",
       "      <td>[ub, io, international, student, summit, adala...</td>\n",
       "    </tr>\n",
       "    <tr>\n",
       "      <td>17</td>\n",
       "      <td>[ub, io, sosialisasi, international, student, ...</td>\n",
       "    </tr>\n",
       "    <tr>\n",
       "      <td>18</td>\n",
       "      <td>[ub, pengumuman, jadwal, test, sertifikasi, ko...</td>\n",
       "    </tr>\n",
       "    <tr>\n",
       "      <td>19</td>\n",
       "      <td>[]</td>\n",
       "    </tr>\n",
       "    <tr>\n",
       "      <td>20</td>\n",
       "      <td>[ub, io, nuffic, neso, dan, daad, menawarkan, ...</td>\n",
       "    </tr>\n",
       "    <tr>\n",
       "      <td>21</td>\n",
       "      <td>[ub, io, salah, satu, partner, ub, ritsumeikan...</td>\n",
       "    </tr>\n",
       "    <tr>\n",
       "      <td>22</td>\n",
       "      <td>[rektor, selamat, dan, berbahagialah, menjadi,...</td>\n",
       "    </tr>\n",
       "    <tr>\n",
       "      <td>23</td>\n",
       "      <td>[pelepasan, balon, oleh, rektor, dan, dirjen, ...</td>\n",
       "    </tr>\n",
       "    <tr>\n",
       "      <td>24</td>\n",
       "      <td>[dengan, dibunyikannya, gong, secara, resmi, t...</td>\n",
       "    </tr>\n",
       "    <tr>\n",
       "      <td>25</td>\n",
       "      <td>[rektor, universitas, brawijaya, beserta, jaja...</td>\n",
       "    </tr>\n",
       "    <tr>\n",
       "      <td>26</td>\n",
       "      <td>[ayo, dukung]</td>\n",
       "    </tr>\n",
       "    <tr>\n",
       "      <td>27</td>\n",
       "      <td>[info, 4, pintu, gerbang, dibuka, pada, selasa...</td>\n",
       "    </tr>\n",
       "    <tr>\n",
       "      <td>28</td>\n",
       "      <td>[info, 3, pintu, gerbang, keluar, yang, dibuka...</td>\n",
       "    </tr>\n",
       "    <tr>\n",
       "      <td>29</td>\n",
       "      <td>[info, 2, penutupan, dilaksanakan, pada, hari,...</td>\n",
       "    </tr>\n",
       "    <tr>\n",
       "      <td>30</td>\n",
       "      <td>[info, 1, penutupan, jalan, masuk, pada, pintu...</td>\n",
       "    </tr>\n",
       "    <tr>\n",
       "      <td>31</td>\n",
       "      <td>[info, sehubungan, dengan, akan, diselenggarak...</td>\n",
       "    </tr>\n",
       "  </tbody>\n",
       "</table>\n",
       "</div>"
      ],
      "text/plain": [
       "                                                Tweet\n",
       "0   [siang, bisa, langsung, ditanyakan, ke, kebida...\n",
       "1   [jadwal, kegiatan, dies, natalis, ke, 54, ub, ...\n",
       "2   [coming, soon, rangkaian, acara, dies, natalis...\n",
       "3   [ub, io, beasiswa, aminef, untuk, pengajar, ba...\n",
       "4   [ub, io, beasiswa, untuk, training, dan, studi...\n",
       "5   [ub, periksa, soal, cek, jawaban, kamu, untuk,...\n",
       "6   [ub, tes, kompetensi, ti, selama, 90, menit, 9...\n",
       "7   [unileveridn, prosesi, penutupan, bulan, keseh...\n",
       "8   [selamat, siang, untuk, jadwal, penerimaan, ma...\n",
       "9   [kempanrb, bersama, korpri, meneguhkan, netral...\n",
       "10  [ub, io, sosialisasi, studi, s2, dan, beasiswa...\n",
       "11  [ub, io, kesempatan, terbaru, untuk, studi, s2...\n",
       "12  [ub, io, forget, british, winter, education, f...\n",
       "13  [ub, io, program, pertukaran, pelajar, dari, a...\n",
       "14  [ub, io, fullbright, scholarship, untuk, s2, d...\n",
       "15  [ub, io, british, winter, education, fair, mis...\n",
       "16  [ub, io, international, student, summit, adala...\n",
       "17  [ub, io, sosialisasi, international, student, ...\n",
       "18  [ub, pengumuman, jadwal, test, sertifikasi, ko...\n",
       "19                                                 []\n",
       "20  [ub, io, nuffic, neso, dan, daad, menawarkan, ...\n",
       "21  [ub, io, salah, satu, partner, ub, ritsumeikan...\n",
       "22  [rektor, selamat, dan, berbahagialah, menjadi,...\n",
       "23  [pelepasan, balon, oleh, rektor, dan, dirjen, ...\n",
       "24  [dengan, dibunyikannya, gong, secara, resmi, t...\n",
       "25  [rektor, universitas, brawijaya, beserta, jaja...\n",
       "26                                      [ayo, dukung]\n",
       "27  [info, 4, pintu, gerbang, dibuka, pada, selasa...\n",
       "28  [info, 3, pintu, gerbang, keluar, yang, dibuka...\n",
       "29  [info, 2, penutupan, dilaksanakan, pada, hari,...\n",
       "30  [info, 1, penutupan, jalan, masuk, pada, pintu...\n",
       "31  [info, sehubungan, dengan, akan, diselenggarak..."
      ]
     },
     "execution_count": 12,
     "metadata": {},
     "output_type": "execute_result"
    }
   ],
   "source": [
    "df"
   ]
  },
  {
   "cell_type": "code",
   "execution_count": 13,
   "metadata": {},
   "outputs": [],
   "source": [
    "#membuat file baru dengan menginputkan hasilnya\n",
    "\n",
    "for name, df in dataframes.items():\n",
    "    # Saving to file\n",
    "    df.to_csv(name + \"hasil.csv\", index=False)"
   ]
  },
  {
   "cell_type": "code",
   "execution_count": null,
   "metadata": {},
   "outputs": [],
   "source": []
  }
 ],
 "metadata": {
  "kernelspec": {
   "display_name": "Python 3",
   "language": "python",
   "name": "python3"
  },
  "language_info": {
   "codemirror_mode": {
    "name": "ipython",
    "version": 3
   },
   "file_extension": ".py",
   "mimetype": "text/x-python",
   "name": "python",
   "nbconvert_exporter": "python",
   "pygments_lexer": "ipython3",
   "version": "3.7.4"
  }
 },
 "nbformat": 4,
 "nbformat_minor": 2
}
